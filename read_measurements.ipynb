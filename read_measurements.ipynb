{
 "cells": [
  {
   "cell_type": "code",
   "execution_count": 6,
   "metadata": {},
   "outputs": [],
   "source": [
    "import numpy as np\n",
    "import pandas as pd\n",
    "import matplotlib.pyplot as plt\n",
    "import seaborn as sns\n",
    "import scipy.io"
   ]
  },
  {
   "cell_type": "code",
   "execution_count": null,
   "metadata": {},
   "outputs": [],
   "source": [
    "\n",
    "# Create subplots: 1 row, 2 columns\n",
    "fig, ax = plt.subplots(1, 3, figsize=(12, 6))  # Adjust figsize as needed\n",
    "base = np.loadtxt(\"./3_5_25_base_1.csv\", delimiter=\",\")  # Assumes CSV has headers\n",
    "object = np.loadtxt(\"./3_5_25_nut_1.csv\", delimiter=\",\")  # Assumes CSV has headers\n",
    "difference = abs(object / base)\n",
    "difference = np.nan_to_num(difference, nan=0.0, posinf=0.0, neginf=0.0)\n",
    "# df_difference.replace([np.inf, np.nan], 0, inplace=True)\n",
    "scipy.io.savemat(\"df_difference_1.mat\", {\"df_difference\": difference})\n",
    "\n",
    "# Plot first heatmap\n",
    "img1 = ax[0].imshow(base, cmap=\"gray\", interpolation=\"nearest\", origin=\"lower\")\n",
    "ax[0].set_title(\"Heatmap 1\")\n",
    "ax[0].set_xlabel(\"Distance from starting point (mm)\")\n",
    "ax[0].set_ylabel(\"Distance from starting point (mm)\")\n",
    "\n",
    "#Plot second heatmap\n",
    "img2 = ax[1].imshow(object, cmap=\"gray\", interpolation=\"nearest\", origin=\"lower\")\n",
    "ax[1].set_title(\"Heatmap 2\")\n",
    "ax[1].set_xlabel(\"Distance from starting point (mm)\")\n",
    "\n",
    "#Plot third heatmap\n",
    "img3 = ax[2].imshow(difference, cmap=\"gray\", interpolation=\"nearest\", origin=\"lower\")\n",
    "ax[2].set_title(\"Difference (1 - 2)\")\n",
    "ax[2].set_xlabel(\"Distance from starting point (mm)\")\n",
    "img3.set_clim(0, 1.5)\n",
    "\n",
    "# Add colorbars\n",
    "fig.colorbar(img1, ax=ax[0], shrink=0.5, label=\"Vpp (V)\")\n",
    "fig.colorbar(img2, ax=ax[1], shrink=0.5, label=\"Vpp (V)\")\n",
    "fig.colorbar(img3, ax=ax[2], shrink=0.5, label=\"Vpp (V)\")\n",
    "\n",
    "# Show the plots\n",
    "plt.tight_layout()  # Adjust layout to prevent overlap\n",
    "plt.show()"
   ]
  }
 ],
 "metadata": {
  "kernelspec": {
   "display_name": "base",
   "language": "python",
   "name": "python3"
  },
  "language_info": {
   "codemirror_mode": {
    "name": "ipython",
    "version": 3
   },
   "file_extension": ".py",
   "mimetype": "text/x-python",
   "name": "python",
   "nbconvert_exporter": "python",
   "pygments_lexer": "ipython3",
   "version": "3.12.7"
  }
 },
 "nbformat": 4,
 "nbformat_minor": 2
}
