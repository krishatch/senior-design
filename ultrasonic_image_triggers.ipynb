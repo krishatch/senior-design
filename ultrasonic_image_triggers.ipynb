{
 "cells": [
  {
   "cell_type": "code",
   "execution_count": 1,
   "metadata": {},
   "outputs": [],
   "source": [
    "from printrun.printcore import printcore\n",
    "from printrun import gcoder\n",
    "import time\n",
    "import pyvisa\n",
    "from IPython.display import display, clear_output\n",
    "import numpy as np\n",
    "import matplotlib.pyplot as plt\n",
    "from tqdm.notebook import tqdm"
   ]
  },
  {
   "cell_type": "markdown",
   "metadata": {},
   "source": [
    "## Connect to Devices"
   ]
  },
  {
   "cell_type": "markdown",
   "metadata": {},
   "source": [
    "##### Scope"
   ]
  },
  {
   "cell_type": "code",
   "execution_count": 2,
   "metadata": {},
   "outputs": [
    {
     "name": "stdout",
     "output_type": "stream",
     "text": [
      "Scope: RIGOL TECHNOLOGIES,DHO804,DHO8A254404063,00.01.01\n",
      "\n"
     ]
    }
   ],
   "source": [
    "rm = pyvisa.ResourceManager()\n",
    "rm.list_resources()\n",
    "scope = rm.open_resource('USB0::0x1AB1::0x044D::DHO8A254404063::INSTR')\n",
    "print(f'Scope: {scope.query('*IDN?')}')"
   ]
  },
  {
   "cell_type": "markdown",
   "metadata": {},
   "source": [
    "##### 3D Printer"
   ]
  },
  {
   "cell_type": "code",
   "execution_count": 3,
   "metadata": {},
   "outputs": [],
   "source": [
    "# Connect to printer\n",
    "p = printcore(\"COM3\", 115200)"
   ]
  },
  {
   "cell_type": "markdown",
   "metadata": {},
   "source": [
    "## Set Up"
   ]
  },
  {
   "cell_type": "markdown",
   "metadata": {},
   "source": [
    "##### Scope"
   ]
  },
  {
   "cell_type": "code",
   "execution_count": 4,
   "metadata": {},
   "outputs": [
    {
     "data": {
      "text/plain": [
       "19"
      ]
     },
     "execution_count": 4,
     "metadata": {},
     "output_type": "execute_result"
    }
   ],
   "source": [
    "# General Scope Setup\n",
    "scope.write(\":TIM:SCAL 0.00002\")  # Set timebase to 1000 us/div"
   ]
  },
  {
   "cell_type": "code",
   "execution_count": 5,
   "metadata": {},
   "outputs": [
    {
     "data": {
      "text/plain": [
       "15"
      ]
     },
     "execution_count": 5,
     "metadata": {},
     "output_type": "execute_result"
    }
   ],
   "source": [
    "# Transmitter\n",
    "scope.write(\":CHAN1:OFFS 0\")\n",
    "scope.write(\":CHAN1:SCAL 3.5\")    # Set CH1 voltage scale to 3.5V/div\n",
    "scope.write(\":ACQ:TYPE AVER\")\n",
    "scope.write(\":ACQ:AVER 4\")\n",
    "scope.write(\":TRIG:LEV 5.2\")    # Set trigger level to 0.5V"
   ]
  },
  {
   "cell_type": "code",
   "execution_count": 6,
   "metadata": {},
   "outputs": [
    {
     "data": {
      "text/plain": [
       "13"
      ]
     },
     "execution_count": 6,
     "metadata": {},
     "output_type": "execute_result"
    }
   ],
   "source": [
    "# Receiver\n",
    "scope.write(\":CHAN2:OFFS 0\")\n",
    "scope.write(\":CHAN2:SCAL 0.02\")    # Set CH1 voltage scale to 20mV/div\n",
    "scope.write(\":ACQ:TYPE AVER\")\n",
    "scope.write(\":ACQ:AVER 4\")\n",
    "#scope.write(\":TRIG:LEV \")    # Set trigger level to 0.5V"
   ]
  },
  {
   "cell_type": "markdown",
   "metadata": {},
   "source": [
    "##### 3D Printer"
   ]
  },
  {
   "cell_type": "code",
   "execution_count": 7,
   "metadata": {},
   "outputs": [],
   "source": [
    "p.send(\"G91\") # Set relative positioning mode. THIS MUST BE DONE FIRST OR PRINTER COULD ACT WEIRD?"
   ]
  },
  {
   "cell_type": "code",
   "execution_count": 8,
   "metadata": {},
   "outputs": [],
   "source": [
    "p.send(\"G28 X0 Y0\") # Home only X and Y"
   ]
  },
  {
   "cell_type": "code",
   "execution_count": 9,
   "metadata": {},
   "outputs": [],
   "source": [
    "p.send(\"G28 Z0\") # Home only Z"
   ]
  },
  {
   "cell_type": "code",
   "execution_count": 10,
   "metadata": {},
   "outputs": [],
   "source": [
    "p.send(\"G1 Z440 F12000\") # Move Z down to bottom"
   ]
  },
  {
   "cell_type": "code",
   "execution_count": 11,
   "metadata": {},
   "outputs": [],
   "source": [
    "p.send(\"G1 X150 Y100 F12000\") # Center X and Y"
   ]
  },
  {
   "cell_type": "markdown",
   "metadata": {},
   "source": [
    "## Measurement Function"
   ]
  },
  {
   "cell_type": "code",
   "execution_count": 12,
   "metadata": {},
   "outputs": [],
   "source": [
    "def measure_scope_vpp():\n",
    "    measurements = np.array([float(scope.query(\":MEAS:VPP? CHAN2\")) for _ in range(10)])\n",
    "    meas_avg = np.average(sorted(measurements)[5:])\n",
    "    return meas_avg"
   ]
  },
  {
   "cell_type": "markdown",
   "metadata": {},
   "source": [
    "## 3D Printer Movement and Data Acquisition"
   ]
  },
  {
   "cell_type": "code",
   "execution_count": 16,
   "metadata": {},
   "outputs": [],
   "source": [
    "p.send(\"G1 Z-10 F12000\")"
   ]
  },
  {
   "cell_type": "code",
   "execution_count": 38,
   "metadata": {},
   "outputs": [],
   "source": [
    "p.send(\"G1 X-1 F1000\")"
   ]
  },
  {
   "cell_type": "code",
   "execution_count": 26,
   "metadata": {},
   "outputs": [],
   "source": [
    "p.send(\"G1 Y2 F1000\")"
   ]
  },
  {
   "cell_type": "code",
   "execution_count": null,
   "metadata": {},
   "outputs": [
    {
     "data": {
      "application/vnd.jupyter.widget-view+json": {
       "model_id": "133e8e160be1421cbd2d124e83a262d7",
       "version_major": 2,
       "version_minor": 0
      },
      "text/plain": [
       "  0%|          | 0/10 [00:00<?, ?it/s]"
      ]
     },
     "metadata": {},
     "output_type": "display_data"
    },
    {
     "data": {
      "application/vnd.jupyter.widget-view+json": {
       "model_id": "2462b6dc663449e5b3926be7457e577e",
       "version_major": 2,
       "version_minor": 0
      },
      "text/plain": [
       "  0%|          | 0/10 [00:00<?, ?it/s]"
      ]
     },
     "metadata": {},
     "output_type": "display_data"
    },
    {
     "data": {
      "application/vnd.jupyter.widget-view+json": {
       "model_id": "5c60a2fb677b439f92f59367e293bc0c",
       "version_major": 2,
       "version_minor": 0
      },
      "text/plain": [
       "  0%|          | 0/10 [00:00<?, ?it/s]"
      ]
     },
     "metadata": {},
     "output_type": "display_data"
    },
    {
     "data": {
      "application/vnd.jupyter.widget-view+json": {
       "model_id": "7a2a8a24bbbc493cb17ff814ad7c4e3b",
       "version_major": 2,
       "version_minor": 0
      },
      "text/plain": [
       "  0%|          | 0/10 [00:00<?, ?it/s]"
      ]
     },
     "metadata": {},
     "output_type": "display_data"
    },
    {
     "data": {
      "application/vnd.jupyter.widget-view+json": {
       "model_id": "972095269262418f98d78d0c3df4336a",
       "version_major": 2,
       "version_minor": 0
      },
      "text/plain": [
       "  0%|          | 0/10 [00:00<?, ?it/s]"
      ]
     },
     "metadata": {},
     "output_type": "display_data"
    },
    {
     "data": {
      "application/vnd.jupyter.widget-view+json": {
       "model_id": "2dc8c1d4efbd4928b025f2ec9498e976",
       "version_major": 2,
       "version_minor": 0
      },
      "text/plain": [
       "  0%|          | 0/10 [00:00<?, ?it/s]"
      ]
     },
     "metadata": {},
     "output_type": "display_data"
    },
    {
     "data": {
      "application/vnd.jupyter.widget-view+json": {
       "model_id": "7f02cefc81cf49f0b30b196778ba85ac",
       "version_major": 2,
       "version_minor": 0
      },
      "text/plain": [
       "  0%|          | 0/10 [00:00<?, ?it/s]"
      ]
     },
     "metadata": {},
     "output_type": "display_data"
    },
    {
     "data": {
      "application/vnd.jupyter.widget-view+json": {
       "model_id": "860169457daa4be383e28fff3d00f1de",
       "version_major": 2,
       "version_minor": 0
      },
      "text/plain": [
       "  0%|          | 0/10 [00:00<?, ?it/s]"
      ]
     },
     "metadata": {},
     "output_type": "display_data"
    },
    {
     "data": {
      "application/vnd.jupyter.widget-view+json": {
       "model_id": "bf81feaa1ada47b89019e42576c1977d",
       "version_major": 2,
       "version_minor": 0
      },
      "text/plain": [
       "  0%|          | 0/10 [00:00<?, ?it/s]"
      ]
     },
     "metadata": {},
     "output_type": "display_data"
    },
    {
     "data": {
      "application/vnd.jupyter.widget-view+json": {
       "model_id": "95d6d43e346b49a6a72c8d801d8cadb6",
       "version_major": 2,
       "version_minor": 0
      },
      "text/plain": [
       "  0%|          | 0/10 [00:00<?, ?it/s]"
      ]
     },
     "metadata": {},
     "output_type": "display_data"
    },
    {
     "data": {
      "application/vnd.jupyter.widget-view+json": {
       "model_id": "148ff60987a74dd7966f88a3d4c428dc",
       "version_major": 2,
       "version_minor": 0
      },
      "text/plain": [
       "  0%|          | 0/10 [00:00<?, ?it/s]"
      ]
     },
     "metadata": {},
     "output_type": "display_data"
    }
   ],
   "source": [
    "# Find peak (center)\n",
    "p.send(\"G1 X-5 Y-5 F1000\")\n",
    "(x_max, y_max) = (0,0)\n",
    "max_measure = 0\n",
    "for i in tqdm(range(10)):\n",
    "    for j in tqdm(range(10)):\n",
    "        measurement = measure_scope_vpp()\n",
    "        if measurement > max_measure:\n",
    "            max_measure = measurement\n",
    "            x_max = j\n",
    "            y_max = i\n",
    "        p.send(\"G1 X1 F1000\")\n",
    "        time.sleep(0.5)\n",
    "    p.send(\"G1 X-10 Y1 F1000\")\n",
    "    time.sleep(10)\n",
    "p.send(\"G1 Y-10 F1000\")\n",
    "time.sleep(5)\n",
    "p.send(f\"G1 X{x_max} Y{y_max} F1000\")"
   ]
  },
  {
   "cell_type": "code",
   "execution_count": 49,
   "metadata": {},
   "outputs": [],
   "source": [
    "p.send(\"G1 Z-10 F1000\")"
   ]
  },
  {
   "cell_type": "code",
   "execution_count": null,
   "metadata": {},
   "outputs": [
    {
     "data": {
      "application/vnd.jupyter.widget-view+json": {
       "model_id": "2025af7e69914f789f6b58ca959104b6",
       "version_major": 2,
       "version_minor": 0
      },
      "text/plain": [
       "  0%|          | 0/1 [00:00<?, ?it/s]"
      ]
     },
     "metadata": {},
     "output_type": "display_data"
    },
    {
     "data": {
      "application/vnd.jupyter.widget-view+json": {
       "model_id": "d1b5f069ae1b4a35989cbf0e81e0d0ec",
       "version_major": 2,
       "version_minor": 0
      },
      "text/plain": [
       "  0%|          | 0/27 [00:00<?, ?it/s]"
      ]
     },
     "metadata": {},
     "output_type": "display_data"
    },
    {
     "data": {
      "application/vnd.jupyter.widget-view+json": {
       "model_id": "ca36925e16ce41d8a8698963632f15b1",
       "version_major": 2,
       "version_minor": 0
      },
      "text/plain": [
       "  0%|          | 0/27 [00:00<?, ?it/s]"
      ]
     },
     "metadata": {},
     "output_type": "display_data"
    },
    {
     "data": {
      "application/vnd.jupyter.widget-view+json": {
       "model_id": "d1b4056f5e1e4cedb4138b89a5f96826",
       "version_major": 2,
       "version_minor": 0
      },
      "text/plain": [
       "  0%|          | 0/27 [00:00<?, ?it/s]"
      ]
     },
     "metadata": {},
     "output_type": "display_data"
    },
    {
     "data": {
      "application/vnd.jupyter.widget-view+json": {
       "model_id": "7f747172a51d438e889ca03e725fc0fc",
       "version_major": 2,
       "version_minor": 0
      },
      "text/plain": [
       "  0%|          | 0/27 [00:00<?, ?it/s]"
      ]
     },
     "metadata": {},
     "output_type": "display_data"
    }
   ],
   "source": [
    "z_planes = 1\n",
    "y_points = 27\n",
    "x_points = 27\n",
    "x_range = 81 # mm\n",
    "y_range = 81 # mm\n",
    "x_movement = x_range / x_points \n",
    "y_movement = y_range / y_points\n",
    "measurements = np.zeros((z_planes, y_points, x_points))\n",
    "p.send(f'G1 X-{x_range/2} Y-{y_range/2} F1000')\n",
    "time.sleep(5)\n",
    "for i in tqdm(range(z_planes)): # Z\n",
    "    for j in tqdm(range(y_points)): # Y \n",
    "        for k in tqdm(range(x_points)): # X\n",
    "            # Measure here\n",
    "            measurements[i,j,k] = measure_scope_vpp()\n",
    "            p.send(f\"G1 X{x_movement} F1000\")\n",
    "            time.sleep(0.15)\n",
    "        # Measure last x point \n",
    "        p.send(f\"G1 X-{x_range} Y{y_movement} F1000\")\n",
    "        time.sleep(7)\n",
    "    # p.send(f\"G1 Y-{y_range} Z10 F3000\")\n",
    "    time.sleep(5)\n",
    "# p.send(f'G1 X{x_range/2} Y{y_range/2} Z{z_planes * 10} F12000')\n",
    "# p.send(f'G1 X-{x_range/2} Y-{y_range/2} F12000')\n",
    "p.send(f'G1 X{x_range/2} Y-{y_range/2} F1000') # Moves back to center\n",
    "print(measurements)"
   ]
  },
  {
   "cell_type": "code",
   "execution_count": null,
   "metadata": {},
   "outputs": [
    {
     "data": {
      "image/png": "[encoded data removed]",
      "text/plain": [
       "<Figure size 640x480 with 2 Axes>"
      ]
     },
     "metadata": {},
     "output_type": "display_data"
    }
   ],
   "source": [
    "# Plot and save\n",
    "\n",
    "img1 = plt.imshow(measurements[0], cmap=\"viridis\", interpolation=\"nearest\", origin=\"lower\")\n",
    "plt.title(\"Heatmap 1\")\n",
    "plt.xlabel(\"Distance from starting point (mm)\")\n",
    "plt.ylabel(\"Distance from starting point (mm)\")\n",
    "\n",
    "# Add colorbars\n",
    "plt.colorbar(img1, label=\"Vpp (V)\")\n",
    "\n",
    "# Show the plots\n",
    "plt.tight_layout()  # Adjust layout to prevent overlap\n",
    "plt.show()\n",
    "\n",
    "# Save data\n",
    "# np.savetxt(\"./images/4_17_25_square_new_Tx_3mm.csv\", measurements[0], delimiter=\",\", fmt=\"%.6f\")  # fmt controls number formatting\n",
    "np.savetxt(\"./images/4_17_25_square_new_Tx_3mm.csv\", measurements[0], delimiter=\",\")  # fmt controls number formatting"
   ]
  },
  {
   "cell_type": "code",
   "execution_count": 73,
   "metadata": {},
   "outputs": [],
   "source": [
    "p.send(\"G1 Y5 F1000\")"
   ]
  },
  {
   "cell_type": "code",
   "execution_count": 132,
   "metadata": {},
   "outputs": [],
   "source": [
    "p.send(\"G1 Z-10 F12000\")"
   ]
  }
 ],
 "metadata": {
  "kernelspec": {
   "display_name": "base",
   "language": "python",
   "name": "python3"
  },
  "language_info": {
   "codemirror_mode": {
    "name": "ipython",
    "version": 3
   },
   "file_extension": ".py",
   "mimetype": "text/x-python",
   "name": "python",
   "nbconvert_exporter": "python",
   "pygments_lexer": "ipython3",
   "version": "3.12.7"
  }
 },
 "nbformat": 4,
 "nbformat_minor": 2
}
