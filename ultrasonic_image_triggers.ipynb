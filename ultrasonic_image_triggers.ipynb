{
 "cells": [
  {
   "cell_type": "code",
   "execution_count": 1,
   "metadata": {},
   "outputs": [],
   "source": [
    "from printrun.printcore import printcore\n",
    "from printrun import gcoder\n",
    "import time\n",
    "import pyvisa\n",
    "from IPython.display import display, clear_output\n",
    "import numpy as np\n",
    "import matplotlib.pyplot as plt\n",
    "from tqdm.notebook import tqdm"
   ]
  },
  {
   "cell_type": "markdown",
   "metadata": {},
   "source": [
    "## Connect to Devices"
   ]
  },
  {
   "cell_type": "markdown",
   "metadata": {},
   "source": [
    "##### Scope"
   ]
  },
  {
   "cell_type": "code",
   "execution_count": 2,
   "metadata": {},
   "outputs": [
    {
     "name": "stdout",
     "output_type": "stream",
     "text": [
      "Scope: RIGOL TECHNOLOGIES,DHO804,DHO8A254404063,00.01.01\n",
      "\n"
     ]
    }
   ],
   "source": [
    "rm = pyvisa.ResourceManager()\n",
    "rm.list_resources()\n",
    "scope = rm.open_resource('USB0::0x1AB1::0x044D::DHO8A254404063::INSTR')\n",
    "print(f'Scope: {scope.query('*IDN?')}')"
   ]
  },
  {
   "cell_type": "markdown",
   "metadata": {},
   "source": [
    "##### 3D Printer"
   ]
  },
  {
   "cell_type": "code",
   "execution_count": 30,
   "metadata": {},
   "outputs": [],
   "source": [
    "# Connect to printer\n",
    "p = printcore(\"COM3\", 115200)"
   ]
  },
  {
   "cell_type": "markdown",
   "metadata": {},
   "source": [
    "## Set Up"
   ]
  },
  {
   "cell_type": "markdown",
   "metadata": {},
   "source": [
    "##### Scope"
   ]
  },
  {
   "cell_type": "code",
   "execution_count": 52,
   "metadata": {},
   "outputs": [
    {
     "data": {
      "text/plain": [
       "19"
      ]
     },
     "execution_count": 52,
     "metadata": {},
     "output_type": "execute_result"
    }
   ],
   "source": [
    "# General Scope Setup\n",
    "scope.write(\":TIM:SCAL 0.00002\")  # Set timebase to 1000 us/div"
   ]
  },
  {
   "cell_type": "code",
   "execution_count": null,
   "metadata": {},
   "outputs": [
    {
     "data": {
      "text/plain": [
       "15"
      ]
     },
     "execution_count": 4,
     "metadata": {},
     "output_type": "execute_result"
    }
   ],
   "source": [
    "# Transmitter\n",
    "scope.write(\":CHAN1:OFFS 0\")\n",
    "scope.write(\":CHAN1:SCAL 3.5\")    # Set CH1 voltage scale to 3.5V/div\n",
    "scope.write(\":ACQ:TYPE AVER\")\n",
    "scope.write(\":ACQ:AVER 4\")\n",
    "scope.write(\":TRIG:LEV 5.2\")    # Set trigger level to 0.5V"
   ]
  },
  {
   "cell_type": "code",
   "execution_count": 5,
   "metadata": {},
   "outputs": [
    {
     "data": {
      "text/plain": [
       "13"
      ]
     },
     "execution_count": 5,
     "metadata": {},
     "output_type": "execute_result"
    }
   ],
   "source": [
    "# Receiver\n",
    "scope.write(\":CHAN2:OFFS 0\")\n",
    "scope.write(\":CHAN2:SCAL 0.02\")    # Set CH1 voltage scale to 20mV/div\n",
    "scope.write(\":ACQ:TYPE AVER\")\n",
    "scope.write(\":ACQ:AVER 4\")\n",
    "#scope.write(\":TRIG:LEV \")    # Set trigger level to 0.5V"
   ]
  },
  {
   "cell_type": "markdown",
   "metadata": {},
   "source": [
    "##### 3D Printer"
   ]
  },
  {
   "cell_type": "code",
   "execution_count": 31,
   "metadata": {},
   "outputs": [],
   "source": [
    "p.send(\"G91\")"
   ]
  },
  {
   "cell_type": "code",
   "execution_count": 7,
   "metadata": {},
   "outputs": [],
   "source": [
    "p.send(\"G28\")"
   ]
  },
  {
   "cell_type": "code",
   "execution_count": 39,
   "metadata": {},
   "outputs": [],
   "source": [
    "p.send(\"G28 X0 Y0\") # Home only X and Y"
   ]
  },
  {
   "cell_type": "code",
   "execution_count": 40,
   "metadata": {},
   "outputs": [],
   "source": [
    "p.send(\"G28 Z0\") # Home only Z"
   ]
  },
  {
   "cell_type": "code",
   "execution_count": 41,
   "metadata": {},
   "outputs": [],
   "source": [
    "p.send(\"G1 Z440 F12000\") # Move Z down to bottom"
   ]
  },
  {
   "cell_type": "code",
   "execution_count": 42,
   "metadata": {},
   "outputs": [],
   "source": [
    "p.send(\"G1 X150 Y100 F12000\") # Center X and Y"
   ]
  },
  {
   "cell_type": "code",
   "execution_count": 44,
   "metadata": {},
   "outputs": [],
   "source": [
    "p.send(\"G1 Y2.5 F1000\")"
   ]
  },
  {
   "cell_type": "code",
   "execution_count": 49,
   "metadata": {},
   "outputs": [],
   "source": [
    "p.send(\"G1 Z-20 F12000\")"
   ]
  },
  {
   "cell_type": "markdown",
   "metadata": {},
   "source": [
    "## Measurement Function"
   ]
  },
  {
   "cell_type": "code",
   "execution_count": 53,
   "metadata": {},
   "outputs": [],
   "source": [
    "def measure_scope_vpp():\n",
    "    measurements = np.array([float(scope.query(\":MEAS:VPP? CHAN2\")) for _ in range(10)])\n",
    "    meas_avg = np.average(sorted(measurements)[5:])\n",
    "    return meas_avg"
   ]
  },
  {
   "cell_type": "code",
   "execution_count": 54,
   "metadata": {},
   "outputs": [
    {
     "name": "stdout",
     "output_type": "stream",
     "text": [
      "0.021044600000000004\n"
     ]
    }
   ],
   "source": [
    "print(measure_scope_vpp())"
   ]
  },
  {
   "cell_type": "markdown",
   "metadata": {},
   "source": [
    "## 3D Printer Movement and Data Acquisition"
   ]
  },
  {
   "cell_type": "code",
   "execution_count": 98,
   "metadata": {},
   "outputs": [],
   "source": [
    "p.send(\"G1 X1 F1000\")"
   ]
  },
  {
   "cell_type": "code",
   "execution_count": 91,
   "metadata": {},
   "outputs": [],
   "source": [
    "p.send(\"G1 Y1 F1000\")"
   ]
  },
  {
   "cell_type": "code",
   "execution_count": null,
   "metadata": {},
   "outputs": [
    {
     "data": {
      "application/vnd.jupyter.widget-view+json": {
       "model_id": "133e8e160be1421cbd2d124e83a262d7",
       "version_major": 2,
       "version_minor": 0
      },
      "text/plain": [
       "  0%|          | 0/10 [00:00<?, ?it/s]"
      ]
     },
     "metadata": {},
     "output_type": "display_data"
    },
    {
     "data": {
      "application/vnd.jupyter.widget-view+json": {
       "model_id": "2462b6dc663449e5b3926be7457e577e",
       "version_major": 2,
       "version_minor": 0
      },
      "text/plain": [
       "  0%|          | 0/10 [00:00<?, ?it/s]"
      ]
     },
     "metadata": {},
     "output_type": "display_data"
    },
    {
     "data": {
      "application/vnd.jupyter.widget-view+json": {
       "model_id": "5c60a2fb677b439f92f59367e293bc0c",
       "version_major": 2,
       "version_minor": 0
      },
      "text/plain": [
       "  0%|          | 0/10 [00:00<?, ?it/s]"
      ]
     },
     "metadata": {},
     "output_type": "display_data"
    },
    {
     "data": {
      "application/vnd.jupyter.widget-view+json": {
       "model_id": "7a2a8a24bbbc493cb17ff814ad7c4e3b",
       "version_major": 2,
       "version_minor": 0
      },
      "text/plain": [
       "  0%|          | 0/10 [00:00<?, ?it/s]"
      ]
     },
     "metadata": {},
     "output_type": "display_data"
    },
    {
     "data": {
      "application/vnd.jupyter.widget-view+json": {
       "model_id": "972095269262418f98d78d0c3df4336a",
       "version_major": 2,
       "version_minor": 0
      },
      "text/plain": [
       "  0%|          | 0/10 [00:00<?, ?it/s]"
      ]
     },
     "metadata": {},
     "output_type": "display_data"
    },
    {
     "data": {
      "application/vnd.jupyter.widget-view+json": {
       "model_id": "2dc8c1d4efbd4928b025f2ec9498e976",
       "version_major": 2,
       "version_minor": 0
      },
      "text/plain": [
       "  0%|          | 0/10 [00:00<?, ?it/s]"
      ]
     },
     "metadata": {},
     "output_type": "display_data"
    },
    {
     "data": {
      "application/vnd.jupyter.widget-view+json": {
       "model_id": "7f02cefc81cf49f0b30b196778ba85ac",
       "version_major": 2,
       "version_minor": 0
      },
      "text/plain": [
       "  0%|          | 0/10 [00:00<?, ?it/s]"
      ]
     },
     "metadata": {},
     "output_type": "display_data"
    },
    {
     "data": {
      "application/vnd.jupyter.widget-view+json": {
       "model_id": "860169457daa4be383e28fff3d00f1de",
       "version_major": 2,
       "version_minor": 0
      },
      "text/plain": [
       "  0%|          | 0/10 [00:00<?, ?it/s]"
      ]
     },
     "metadata": {},
     "output_type": "display_data"
    },
    {
     "data": {
      "application/vnd.jupyter.widget-view+json": {
       "model_id": "bf81feaa1ada47b89019e42576c1977d",
       "version_major": 2,
       "version_minor": 0
      },
      "text/plain": [
       "  0%|          | 0/10 [00:00<?, ?it/s]"
      ]
     },
     "metadata": {},
     "output_type": "display_data"
    },
    {
     "data": {
      "application/vnd.jupyter.widget-view+json": {
       "model_id": "95d6d43e346b49a6a72c8d801d8cadb6",
       "version_major": 2,
       "version_minor": 0
      },
      "text/plain": [
       "  0%|          | 0/10 [00:00<?, ?it/s]"
      ]
     },
     "metadata": {},
     "output_type": "display_data"
    },
    {
     "data": {
      "application/vnd.jupyter.widget-view+json": {
       "model_id": "148ff60987a74dd7966f88a3d4c428dc",
       "version_major": 2,
       "version_minor": 0
      },
      "text/plain": [
       "  0%|          | 0/10 [00:00<?, ?it/s]"
      ]
     },
     "metadata": {},
     "output_type": "display_data"
    }
   ],
   "source": [
    "# Find peak (center)\n",
    "p.send(\"G1 X-5 Y-5 F1000\")\n",
    "(x_max, y_max) = (0,0)\n",
    "max_measure = 0\n",
    "for i in tqdm(range(10)):\n",
    "    for j in tqdm(range(10)):\n",
    "        measurement = measure_scope_vpp()\n",
    "        if measurement > max_measure:\n",
    "            max_measure = measurement\n",
    "            x_max = j\n",
    "            y_max = i\n",
    "        p.send(\"G1 X1 F1000\")\n",
    "        time.sleep(0.5)\n",
    "    p.send(\"G1 X-10 Y1 F1000\")\n",
    "    time.sleep(3)\n",
    "p.send(\"G1 Y-10 F1000\")\n",
    "time.sleep(5)\n",
    "p.send(f\"G1 X{x_max} Y{y_max} F1000\")"
   ]
  },
  {
   "cell_type": "code",
   "execution_count": 31,
   "metadata": {},
   "outputs": [],
   "source": [
    "p.send(\"G1 Z-50 F12000\")"
   ]
  },
  {
   "cell_type": "code",
   "execution_count": null,
   "metadata": {},
   "outputs": [
    {
     "data": {
      "application/vnd.jupyter.widget-view+json": {
       "model_id": "034663d6931044749f334eccd5db2c9b",
       "version_major": 2,
       "version_minor": 0
      },
      "text/plain": [
       "  0%|          | 0/1 [00:00<?, ?it/s]"
      ]
     },
     "metadata": {},
     "output_type": "display_data"
    },
    {
     "data": {
      "application/vnd.jupyter.widget-view+json": {
       "model_id": "7458b019bc244773a9e8bf5d1a1c06ec",
       "version_major": 2,
       "version_minor": 0
      },
      "text/plain": [
       "  0%|          | 0/20 [00:00<?, ?it/s]"
      ]
     },
     "metadata": {},
     "output_type": "display_data"
    },
    {
     "data": {
      "application/vnd.jupyter.widget-view+json": {
       "model_id": "1a6ff63d1e2b4c7bb93e8978865d7349",
       "version_major": 2,
       "version_minor": 0
      },
      "text/plain": [
       "  0%|          | 0/20 [00:00<?, ?it/s]"
      ]
     },
     "metadata": {},
     "output_type": "display_data"
    },
    {
     "data": {
      "application/vnd.jupyter.widget-view+json": {
       "model_id": "2105298065224b8db7546c572d37ffe7",
       "version_major": 2,
       "version_minor": 0
      },
      "text/plain": [
       "  0%|          | 0/20 [00:00<?, ?it/s]"
      ]
     },
     "metadata": {},
     "output_type": "display_data"
    },
    {
     "data": {
      "application/vnd.jupyter.widget-view+json": {
       "model_id": "0853410259e94090995058444f5153af",
       "version_major": 2,
       "version_minor": 0
      },
      "text/plain": [
       "  0%|          | 0/20 [00:00<?, ?it/s]"
      ]
     },
     "metadata": {},
     "output_type": "display_data"
    },
    {
     "data": {
      "application/vnd.jupyter.widget-view+json": {
       "model_id": "5cf5b581602e436d8c043babdf4b5f51",
       "version_major": 2,
       "version_minor": 0
      },
      "text/plain": [
       "  0%|          | 0/20 [00:00<?, ?it/s]"
      ]
     },
     "metadata": {},
     "output_type": "display_data"
    },
    {
     "data": {
      "application/vnd.jupyter.widget-view+json": {
       "model_id": "794211cdd73b46fa8533a11e1e2ec359",
       "version_major": 2,
       "version_minor": 0
      },
      "text/plain": [
       "  0%|          | 0/20 [00:00<?, ?it/s]"
      ]
     },
     "metadata": {},
     "output_type": "display_data"
    },
    {
     "data": {
      "application/vnd.jupyter.widget-view+json": {
       "model_id": "cc2ac6f9c8884d99a323279bf872c076",
       "version_major": 2,
       "version_minor": 0
      },
      "text/plain": [
       "  0%|          | 0/20 [00:00<?, ?it/s]"
      ]
     },
     "metadata": {},
     "output_type": "display_data"
    },
    {
     "data": {
      "application/vnd.jupyter.widget-view+json": {
       "model_id": "ecbef78316324f93b64843aab9dac11d",
       "version_major": 2,
       "version_minor": 0
      },
      "text/plain": [
       "  0%|          | 0/20 [00:00<?, ?it/s]"
      ]
     },
     "metadata": {},
     "output_type": "display_data"
    },
    {
     "data": {
      "application/vnd.jupyter.widget-view+json": {
       "model_id": "8f91068a15bf4961a7712c36321c4549",
       "version_major": 2,
       "version_minor": 0
      },
      "text/plain": [
       "  0%|          | 0/20 [00:00<?, ?it/s]"
      ]
     },
     "metadata": {},
     "output_type": "display_data"
    },
    {
     "data": {
      "application/vnd.jupyter.widget-view+json": {
       "model_id": "6ca085788425498591cd707479c8f858",
       "version_major": 2,
       "version_minor": 0
      },
      "text/plain": [
       "  0%|          | 0/20 [00:00<?, ?it/s]"
      ]
     },
     "metadata": {},
     "output_type": "display_data"
    },
    {
     "data": {
      "application/vnd.jupyter.widget-view+json": {
       "model_id": "18e9ae23cffe4a0d95d62305398a59f5",
       "version_major": 2,
       "version_minor": 0
      },
      "text/plain": [
       "  0%|          | 0/20 [00:00<?, ?it/s]"
      ]
     },
     "metadata": {},
     "output_type": "display_data"
    },
    {
     "data": {
      "application/vnd.jupyter.widget-view+json": {
       "model_id": "04dc3f4434284892847f9ca73ebc9b16",
       "version_major": 2,
       "version_minor": 0
      },
      "text/plain": [
       "  0%|          | 0/20 [00:00<?, ?it/s]"
      ]
     },
     "metadata": {},
     "output_type": "display_data"
    },
    {
     "data": {
      "application/vnd.jupyter.widget-view+json": {
       "model_id": "26413f5e987c4b879067807d702e00ba",
       "version_major": 2,
       "version_minor": 0
      },
      "text/plain": [
       "  0%|          | 0/20 [00:00<?, ?it/s]"
      ]
     },
     "metadata": {},
     "output_type": "display_data"
    },
    {
     "data": {
      "application/vnd.jupyter.widget-view+json": {
       "model_id": "928e0ee54d91471195bd7f3be7888bc2",
       "version_major": 2,
       "version_minor": 0
      },
      "text/plain": [
       "  0%|          | 0/20 [00:00<?, ?it/s]"
      ]
     },
     "metadata": {},
     "output_type": "display_data"
    },
    {
     "data": {
      "application/vnd.jupyter.widget-view+json": {
       "model_id": "841b4995b07a45fab6788a7cc07106a1",
       "version_major": 2,
       "version_minor": 0
      },
      "text/plain": [
       "  0%|          | 0/20 [00:00<?, ?it/s]"
      ]
     },
     "metadata": {},
     "output_type": "display_data"
    },
    {
     "data": {
      "application/vnd.jupyter.widget-view+json": {
       "model_id": "417bfdfcecb54e03aab1637e6fcacdb5",
       "version_major": 2,
       "version_minor": 0
      },
      "text/plain": [
       "  0%|          | 0/20 [00:00<?, ?it/s]"
      ]
     },
     "metadata": {},
     "output_type": "display_data"
    },
    {
     "data": {
      "application/vnd.jupyter.widget-view+json": {
       "model_id": "16cd83b772854cf486a3f09d5c6e910d",
       "version_major": 2,
       "version_minor": 0
      },
      "text/plain": [
       "  0%|          | 0/20 [00:00<?, ?it/s]"
      ]
     },
     "metadata": {},
     "output_type": "display_data"
    },
    {
     "data": {
      "application/vnd.jupyter.widget-view+json": {
       "model_id": "be0fc2f1320444e8bc4a911174ee2ede",
       "version_major": 2,
       "version_minor": 0
      },
      "text/plain": [
       "  0%|          | 0/20 [00:00<?, ?it/s]"
      ]
     },
     "metadata": {},
     "output_type": "display_data"
    },
    {
     "data": {
      "application/vnd.jupyter.widget-view+json": {
       "model_id": "288ce8bce5044da8a2e1823ab7215647",
       "version_major": 2,
       "version_minor": 0
      },
      "text/plain": [
       "  0%|          | 0/20 [00:00<?, ?it/s]"
      ]
     },
     "metadata": {},
     "output_type": "display_data"
    },
    {
     "data": {
      "application/vnd.jupyter.widget-view+json": {
       "model_id": "aef1d6524a674d0e8e18e9a8516b644a",
       "version_major": 2,
       "version_minor": 0
      },
      "text/plain": [
       "  0%|          | 0/20 [00:00<?, ?it/s]"
      ]
     },
     "metadata": {},
     "output_type": "display_data"
    },
    {
     "data": {
      "application/vnd.jupyter.widget-view+json": {
       "model_id": "e675c2b933594bc8875a578d72bc4db1",
       "version_major": 2,
       "version_minor": 0
      },
      "text/plain": [
       "  0%|          | 0/20 [00:00<?, ?it/s]"
      ]
     },
     "metadata": {},
     "output_type": "display_data"
    },
    {
     "name": "stdout",
     "output_type": "stream",
     "text": [
      "[[[0.00769602 0.00634134 0.00737336 0.00934134 0.0109654  0.0125628\n",
      "   0.0106722  0.0123414  0.0147784  0.0151122  0.0167358  0.0194428\n",
      "   0.0210826  0.018376   0.0165494  0.0131386  0.0128108  0.0141572\n",
      "   0.0132452  0.01060814]\n",
      "  [0.0152828  0.00896266 0.0114588  0.013648   0.0163574  0.018488\n",
      "   0.0154826  0.0199682  0.0226454  0.0216534  0.0204934  0.019184\n",
      "   0.01904    0.0214158  0.0233176  0.0218     0.0187656  0.0172054\n",
      "   0.0146558  0.0122586 ]\n",
      "  [0.0170668  0.0106482  0.0143228  0.0168932  0.0192238  0.0185864\n",
      "   0.0235092  0.029448   0.0309812  0.029792   0.0264376  0.0240694\n",
      "   0.020784   0.021069   0.021709   0.0249466  0.0238054  0.0197522\n",
      "   0.019896   0.0155042 ]\n",
      "  [0.0159626  0.0120454  0.015448   0.01584    0.0213652  0.0267122\n",
      "   0.0331892  0.034939   0.0332162  0.0296746  0.0268374  0.02804\n",
      "   0.0277362  0.0231092  0.0204958  0.0272426  0.0311788  0.0282748\n",
      "   0.020648   0.0147708 ]\n",
      "  [0.0223144  0.0136826  0.0142616  0.0214078  0.0318346  0.0361254\n",
      "   0.0366986  0.0357812  0.0293758  0.0242052  0.0278054  0.0319708\n",
      "   0.0356372  0.0322934  0.0196534  0.0248694  0.0342798  0.0344934\n",
      "   0.0263654  0.0164292 ]\n",
      "  [0.0324908  0.0117094  0.0161466  0.0312374  0.0426612  0.0431652\n",
      "   0.0389254  0.0350746  0.0296532  0.036456   0.0427786  0.0411972\n",
      "   0.047592   0.0552078  0.0497438  0.0335334  0.0361336  0.0387706\n",
      "   0.0317118  0.0198668 ]\n",
      "  [0.040784   0.0107892  0.0217922  0.0396878  0.0480748  0.045043\n",
      "   0.0398932  0.0427574  0.0607228  0.0800184  0.089304   0.0849948\n",
      "   0.0743788  0.0635972  0.0570266  0.0486078  0.0420774  0.0411146\n",
      "   0.0367412  0.02424   ]\n",
      "  [0.0457226  0.01177074 0.026952   0.0446696  0.0503654  0.0444774\n",
      "   0.0458372  0.0736932  0.1058     0.133934   0.14819    0.141768\n",
      "   0.120006   0.0990028  0.0860746  0.0727866  0.0544748  0.0437066\n",
      "   0.0382186  0.026552  ]\n",
      "  [0.0460718  0.01220814 0.0310214  0.0468532  0.0504962  0.0487386\n",
      "   0.0700534  0.108514   0.154344   0.190328   0.206468   0.19821\n",
      "   0.16799    0.135318   0.113668   0.0936374  0.0685148  0.044472\n",
      "   0.0372188  0.0290826 ]\n",
      "  [0.0455972  0.0123066  0.0317466  0.0466242  0.0484722  0.0577572\n",
      "   0.0908506  0.141756   0.19579    0.235582   0.252596   0.244482\n",
      "   0.21045    0.165178   0.135322   0.105938   0.0733814  0.0425066\n",
      "   0.0346932  0.030013  ]\n",
      "  [0.0446986  0.0119734  0.0300616  0.0424344  0.048728   0.0637466\n",
      "   0.104282   0.159214   0.215874   0.261182   0.278926   0.266798\n",
      "   0.2327     0.184772   0.144904   0.108324   0.0706026  0.041368\n",
      "   0.03288    0.0299096 ]\n",
      "  [0.0423866  0.0128188  0.027008   0.0394588  0.0465038  0.064664\n",
      "   0.10491    0.157598   0.214402   0.257134   0.271962   0.26143\n",
      "   0.222598   0.18382    0.143506   0.1023688  0.063728   0.0343066\n",
      "   0.0320402  0.0296882 ]\n",
      "  [0.0369174  0.0118824  0.0232346  0.0344026  0.0409148  0.0549948\n",
      "   0.0911544  0.139784   0.189138   0.222586   0.236038   0.227316\n",
      "   0.198582   0.161016   0.12353    0.0861012  0.052384   0.0336054\n",
      "   0.0326052  0.0297838 ]\n",
      "  [0.0311442  0.01038388 0.019576   0.0299602  0.0356426  0.0429068\n",
      "   0.0673762  0.10932    0.147792   0.174862   0.182316   0.17484\n",
      "   0.156516   0.126456   0.0937016  0.0649946  0.0397148  0.0339628\n",
      "   0.0333892  0.0293466 ]\n",
      "  [0.0245172  0.00959206 0.0174216  0.0243042  0.0278612  0.0323278\n",
      "   0.047627   0.073752   0.100506   0.1191     0.125734   0.12132\n",
      "   0.108992   0.086904   0.0630292  0.0425786  0.0336026  0.0347094\n",
      "   0.0326214  0.0268028 ]\n",
      "  [0.0202746  0.00823468 0.0130108  0.0198374  0.0227602  0.0264106\n",
      "   0.031608   0.0455628  0.0627706  0.0746188  0.0813842  0.0767016\n",
      "   0.066992   0.0545866  0.0427518  0.0358     0.0359466  0.0342612\n",
      "   0.0288212  0.0214    ]\n",
      "  [0.01616    0.00619466 0.0112588  0.0147148  0.018936   0.020984\n",
      "   0.0252558  0.032056   0.0401626  0.0457494  0.0513012  0.0491706\n",
      "   0.0456746  0.0417866  0.0389758  0.037291   0.0342078  0.0296882\n",
      "   0.0238534  0.0170132 ]\n",
      "  [0.0118798  0.00489334 0.00803468 0.0107146  0.0129704  0.0167574\n",
      "   0.0198348  0.0250666  0.0295602  0.0344856  0.0386374  0.0390294\n",
      "   0.0405014  0.0387974  0.0366962  0.0331786  0.0281146  0.0228802\n",
      "   0.0179306  0.0131092 ]\n",
      "  [0.008808   0.004168   0.00632536 0.00938668 0.0100934  0.0117868\n",
      "   0.0157544  0.0184642  0.0228908  0.02664    0.0295866  0.0320372\n",
      "   0.0323228  0.0309816  0.0275306  0.0228294  0.0194134  0.0160026\n",
      "   0.0126772  0.00957066]\n",
      "  [0.00690936 0.00470132 0.0053253  0.00627468 0.00731732 0.00862666\n",
      "   0.01052    0.012768   0.0165094  0.0194266  0.0214212  0.0234132\n",
      "   0.0209682  0.019248   0.0169174  0.0147146  0.0131438  0.0112158\n",
      "   0.0087093  0.00850134]]]\n"
     ]
    }
   ],
   "source": [
    "z_planes = 1\n",
    "y_points = 50\n",
    "x_points = 50\n",
    "x_range = 50 # mm\n",
    "y_range = 50 # mm\n",
    "x_movement = x_range / x_points \n",
    "y_movement = y_range / y_points\n",
    "measurements = np.zeros((z_planes, y_points, x_points))\n",
    "p.send(f'G1 X-{x_range/2} Y-{y_range/2} F1000')\n",
    "time.sleep(5)\n",
    "for i in tqdm(range(z_planes)): # Z\n",
    "    for j in tqdm(range(y_points)): # Y \n",
    "        for k in tqdm(range(x_points)): # X\n",
    "            # Measure here\n",
    "            measurements[i,j,k] = measure_scope_vpp()\n",
    "            p.send(f\"G1 X{x_movement} F1000\")\n",
    "            time.sleep(0.15)\n",
    "        # Measure last x point \n",
    "        p.send(f\"G1 X-{x_range} Y{y_movement} F1000\")\n",
    "        time.sleep(3)\n",
    "    # p.send(f\"G1 Y-{y_range} Z10 F3000\")\n",
    "    time.sleep(5)\n",
    "# p.send(f'G1 X{x_range/2} Y{y_range/2} Z{z_planes * 10} F12000')\n",
    "# p.send(f'G1 X-{x_range/2} Y-{y_range/2} F12000')\n",
    "print(measurements)"
   ]
  },
  {
   "cell_type": "code",
   "execution_count": 103,
   "metadata": {},
   "outputs": [],
   "source": [
    "p.send(f'G1 X{x_range/2} Y-{y_range/2} F1000')"
   ]
  },
  {
   "cell_type": "code",
   "execution_count": 102,
   "metadata": {},
   "outputs": [],
   "source": [
    "p.send(\"G1 Y10 F1000\")"
   ]
  },
  {
   "cell_type": "code",
   "execution_count": 100,
   "metadata": {},
   "outputs": [
    {
     "data": {
      "image/png": "[encoded data removed]",
      "text/plain": [
       "<Figure size 640x480 with 2 Axes>"
      ]
     },
     "metadata": {},
     "output_type": "display_data"
    }
   ],
   "source": [
    "# Plot and save\n",
    "img1 = plt.imshow(measurements[0], cmap=\"viridis\", interpolation=\"nearest\", origin=\"lower\")\n",
    "plt.title(\"Heatmap 1\")\n",
    "plt.xlabel(\"Distance from starting point (mm)\")\n",
    "plt.ylabel(\"Distance from starting point (mm)\")\n",
    "\n",
    "# Add colorbars\n",
    "plt.colorbar(img1, label=\"Vpp (V)\")\n",
    "\n",
    "# Show the plots\n",
    "plt.tight_layout()  # Adjust layout to prevent overlap\n",
    "plt.show()\n",
    "\n",
    "# Save data\n",
    "np.savetxt(\"./images/4_16_25_base_3mm.csv\", measurements[0], delimiter=\",\", fmt=\"%.2f\")  # fmt controls number formatting"
   ]
  },
  {
   "cell_type": "code",
   "execution_count": 73,
   "metadata": {},
   "outputs": [],
   "source": [
    "p.send(\"G1 Y5 F1000\")"
   ]
  },
  {
   "cell_type": "code",
   "execution_count": 81,
   "metadata": {},
   "outputs": [],
   "source": [
    "p.send(\"G1 Z-10 F12000\")"
   ]
  },
  {
   "cell_type": "code",
   "execution_count": null,
   "metadata": {},
   "outputs": [],
   "source": []
  }
 ],
 "metadata": {
  "kernelspec": {
   "display_name": "base",
   "language": "python",
   "name": "python3"
  },
  "language_info": {
   "codemirror_mode": {
    "name": "ipython",
    "version": 3
   },
   "file_extension": ".py",
   "mimetype": "text/x-python",
   "name": "python",
   "nbconvert_exporter": "python",
   "pygments_lexer": "ipython3",
   "version": "3.12.7"
  }
 },
 "nbformat": 4,
 "nbformat_minor": 2
}
